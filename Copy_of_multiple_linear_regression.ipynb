{
  "nbformat": 4,
  "nbformat_minor": 0,
  "metadata": {
    "colab": {
      "name": "Copy of multiple_linear_regression.ipynb",
      "provenance": [],
      "collapsed_sections": [],
      "toc_visible": true
    },
    "kernelspec": {
      "display_name": "Python 3",
      "language": "python",
      "name": "python3"
    },
    "language_info": {
      "codemirror_mode": {
        "name": "ipython",
        "version": 3
      },
      "file_extension": ".py",
      "mimetype": "text/x-python",
      "name": "python",
      "nbconvert_exporter": "python",
      "pygments_lexer": "ipython3",
      "version": "3.7.4"
    }
  },
  "cells": [
    {
      "cell_type": "markdown",
      "metadata": {
        "colab_type": "text",
        "id": "CazISR8X_HUG"
      },
      "source": [
        "# Multiple Linear Regression"
      ]
    },
    {
      "cell_type": "markdown",
      "metadata": {
        "colab_type": "text",
        "id": "pOyqYHTk_Q57"
      },
      "source": [
        "## Importing the libraries"
      ]
    },
    {
      "cell_type": "code",
      "metadata": {
        "colab_type": "code",
        "id": "T_YHJjnD_Tja",
        "colab": {}
      },
      "source": [
        "import numpy as np\n",
        "import matplotlib.pyplot as plt\n",
        "import pandas as pd"
      ],
      "execution_count": 1,
      "outputs": []
    },
    {
      "cell_type": "markdown",
      "metadata": {
        "colab_type": "text",
        "id": "vgC61-ah_WIz"
      },
      "source": [
        "## Importing the dataset"
      ]
    },
    {
      "cell_type": "code",
      "metadata": {
        "colab_type": "code",
        "id": "UrxyEKGn_ez7",
        "colab": {}
      },
      "source": [
        "dataset = pd.read_csv('machine (2).csv')\n",
        "X = dataset.iloc[:, 2:-1].values\n",
        "y = dataset.iloc[:, -1].values"
      ],
      "execution_count": 2,
      "outputs": []
    },
    {
      "cell_type": "markdown",
      "metadata": {
        "colab_type": "text",
        "id": "WemVnqgeA70k"
      },
      "source": [
        "## Splitting the dataset into the Training set and Test set"
      ]
    },
    {
      "cell_type": "code",
      "metadata": {
        "colab_type": "code",
        "id": "Kb_v_ae-A-20",
        "colab": {}
      },
      "source": [
        "from sklearn.model_selection import train_test_split\n",
        "X_train, X_test, y_train, y_test = train_test_split(X, y, test_size = 0.2, random_state = 0)"
      ],
      "execution_count": 3,
      "outputs": []
    },
    {
      "cell_type": "markdown",
      "metadata": {
        "colab_type": "text",
        "id": "k-McZVsQBINc"
      },
      "source": [
        "## Training the Multiple Linear Regression model on the Training set"
      ]
    },
    {
      "cell_type": "code",
      "metadata": {
        "colab_type": "code",
        "id": "ywPjx0L1BMiD",
        "colab": {
          "base_uri": "https://localhost:8080/",
          "height": 35
        },
        "outputId": "b691af43-f9bc-471a-fe7f-e455a5a561a3"
      },
      "source": [
        "from sklearn.linear_model import LinearRegression\n",
        "regressor = LinearRegression()\n",
        "regressor.fit(X_train, y_train)"
      ],
      "execution_count": 4,
      "outputs": [
        {
          "output_type": "execute_result",
          "data": {
            "text/plain": [
              "LinearRegression(copy_X=True, fit_intercept=True, n_jobs=None, normalize=False)"
            ]
          },
          "metadata": {
            "tags": []
          },
          "execution_count": 4
        }
      ]
    },
    {
      "cell_type": "markdown",
      "metadata": {
        "colab_type": "text",
        "id": "xNkXL1YQBiBT"
      },
      "source": [
        "## Predicting the Test set results"
      ]
    },
    {
      "cell_type": "code",
      "metadata": {
        "colab_type": "code",
        "id": "TQKmwvtdBkyb",
        "colab": {
          "base_uri": "https://localhost:8080/",
          "height": 745
        },
        "outputId": "062a3db0-9e2d-4739-e085-ef2f58278f7d"
      },
      "source": [
        "y_pred = regressor.predict(X_test)\n",
        "np.set_printoptions(precision=2)\n",
        "print(np.concatenate((y_pred.reshape(len(y_pred),1), y_test.reshape(len(y_test),1)),1))"
      ],
      "execution_count": 5,
      "outputs": [
        {
          "output_type": "stream",
          "text": [
            "[[ 6.22e+01  7.00e+01]\n",
            " [ 4.46e+00  2.30e+01]\n",
            " [ 6.50e+01  7.40e+01]\n",
            " [ 3.24e+02  2.90e+02]\n",
            " [ 8.04e+01  6.70e+01]\n",
            " [ 1.65e-01  2.00e+01]\n",
            " [ 7.93e+01  7.60e+01]\n",
            " [ 3.90e+01  1.80e+01]\n",
            " [ 1.96e+02  1.81e+02]\n",
            " [ 2.08e+02  1.51e+02]\n",
            " [ 4.96e+01  4.10e+01]\n",
            " [ 4.82e+02  6.03e+02]\n",
            " [ 1.12e+02  7.20e+01]\n",
            " [ 1.92e+02  1.49e+02]\n",
            " [ 4.59e+02  3.50e+02]\n",
            " [ 2.25e+01  2.90e+01]\n",
            " [ 3.10e+01  5.00e+01]\n",
            " [ 4.50e+00  2.90e+01]\n",
            " [-1.37e+01  1.80e+01]\n",
            " [ 7.40e+00  2.20e+01]\n",
            " [ 1.96e-01  2.10e+01]\n",
            " [ 6.36e+01  6.40e+01]\n",
            " [ 4.76e+02  3.81e+02]\n",
            " [ 5.11e+01  5.60e+01]\n",
            " [ 1.68e+01  3.20e+01]\n",
            " [ 6.61e+01  8.00e+01]\n",
            " [ 1.04e+01  3.00e+01]\n",
            " [ 1.90e+01  2.00e+01]\n",
            " [-1.04e+01  2.10e+01]\n",
            " [ 2.70e+01  4.10e+01]\n",
            " [ 6.09e+01  5.20e+01]\n",
            " [ 7.12e+01  4.80e+01]\n",
            " [ 3.86e+01  4.60e+01]\n",
            " [ 7.08e+01  5.40e+01]\n",
            " [ 1.27e+02  9.90e+01]\n",
            " [ 7.93e+01  1.07e+02]\n",
            " [ 6.44e+00  2.50e+01]\n",
            " [ 4.87e+01  5.90e+01]\n",
            " [-2.30e+00  2.30e+01]\n",
            " [ 7.12e+01  8.80e+01]\n",
            " [ 2.06e+02  1.83e+02]\n",
            " [ 6.80e+01  4.00e+01]]\n"
          ],
          "name": "stdout"
        }
      ]
    },
    {
      "cell_type": "markdown",
      "metadata": {
        "colab_type": "text",
        "id": "50DZZy0UyhLi"
      },
      "source": [
        "## Evaluating the Model Performance"
      ]
    },
    {
      "cell_type": "code",
      "metadata": {
        "colab_type": "code",
        "id": "xPagAOKDywV4",
        "colab": {
          "base_uri": "https://localhost:8080/",
          "height": 35
        },
        "outputId": "0ef4e6a7-e584-4d2f-d2e1-7821595942b5"
      },
      "source": [
        "from sklearn.metrics import r2_score\n",
        "r2_score(y_test, y_pred)"
      ],
      "execution_count": 6,
      "outputs": [
        {
          "output_type": "execute_result",
          "data": {
            "text/plain": [
              "0.9021254056111809"
            ]
          },
          "metadata": {
            "tags": []
          },
          "execution_count": 6
        }
      ]
    }
  ]
}