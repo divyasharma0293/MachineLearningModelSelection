{
  "nbformat": 4,
  "nbformat_minor": 0,
  "metadata": {
    "colab": {
      "name": "Copy of polynomial_regression.ipynb",
      "provenance": [],
      "collapsed_sections": [],
      "toc_visible": true
    },
    "kernelspec": {
      "display_name": "Python 3",
      "language": "python",
      "name": "python3"
    },
    "language_info": {
      "codemirror_mode": {
        "name": "ipython",
        "version": 3
      },
      "file_extension": ".py",
      "mimetype": "text/x-python",
      "name": "python",
      "nbconvert_exporter": "python",
      "pygments_lexer": "ipython3",
      "version": "3.7.4"
    }
  },
  "cells": [
    {
      "cell_type": "markdown",
      "metadata": {
        "colab_type": "text",
        "id": "vN99YjPTDena"
      },
      "source": [
        "# Polynomial Regression"
      ]
    },
    {
      "cell_type": "markdown",
      "metadata": {
        "colab_type": "text",
        "id": "ZIx_naXnDyHd"
      },
      "source": [
        "## Importing the libraries"
      ]
    },
    {
      "cell_type": "code",
      "metadata": {
        "colab_type": "code",
        "id": "FjnmdyPLD2tS",
        "colab": {}
      },
      "source": [
        "import numpy as np\n",
        "import matplotlib.pyplot as plt\n",
        "import pandas as pd"
      ],
      "execution_count": 1,
      "outputs": []
    },
    {
      "cell_type": "markdown",
      "metadata": {
        "colab_type": "text",
        "id": "6c8YExmOD5x5"
      },
      "source": [
        "## Importing the dataset"
      ]
    },
    {
      "cell_type": "code",
      "metadata": {
        "colab_type": "code",
        "id": "nQOdXhjXD_AE",
        "colab": {}
      },
      "source": [
        "dataset = pd.read_csv('machine (2).csv')\n",
        "X = dataset.iloc[:, 2:-1].values\n",
        "y = dataset.iloc[:, -1].values"
      ],
      "execution_count": 2,
      "outputs": []
    },
    {
      "cell_type": "markdown",
      "metadata": {
        "colab_type": "text",
        "id": "Ud_1XTb28iXH"
      },
      "source": [
        "## Splitting the dataset into the Training set and Test set"
      ]
    },
    {
      "cell_type": "code",
      "metadata": {
        "colab_type": "code",
        "id": "bUib_pbl8ipB",
        "colab": {}
      },
      "source": [
        "from sklearn.model_selection import train_test_split\n",
        "X_train, X_test, y_train, y_test = train_test_split(X, y, test_size = 0.2, random_state = 0)"
      ],
      "execution_count": 3,
      "outputs": []
    },
    {
      "cell_type": "markdown",
      "metadata": {
        "colab_type": "text",
        "id": "Rb5nWuSHEfBV"
      },
      "source": [
        "## Training the Polynomial Regression model on the Training set"
      ]
    },
    {
      "cell_type": "code",
      "metadata": {
        "colab_type": "code",
        "id": "HYplp4pTEm0O",
        "colab": {
          "base_uri": "https://localhost:8080/",
          "height": 35
        },
        "outputId": "2971a92c-15fd-49d2-8499-d62efd9796ae"
      },
      "source": [
        "from sklearn.preprocessing import PolynomialFeatures\n",
        "from sklearn.linear_model import LinearRegression\n",
        "poly_reg = PolynomialFeatures(degree = 2)\n",
        "X_poly = poly_reg.fit_transform(X_train)\n",
        "regressor = LinearRegression()\n",
        "regressor.fit(X_poly, y_train)"
      ],
      "execution_count": 4,
      "outputs": [
        {
          "output_type": "execute_result",
          "data": {
            "text/plain": [
              "LinearRegression(copy_X=True, fit_intercept=True, n_jobs=None, normalize=False)"
            ]
          },
          "metadata": {
            "tags": []
          },
          "execution_count": 4
        }
      ]
    },
    {
      "cell_type": "markdown",
      "metadata": {
        "colab_type": "text",
        "id": "pzF3BRps9nlk"
      },
      "source": [
        "## Predicting the Test set results"
      ]
    },
    {
      "cell_type": "code",
      "metadata": {
        "colab_type": "code",
        "id": "36aFLFBK9pMk",
        "colab": {
          "base_uri": "https://localhost:8080/",
          "height": 745
        },
        "outputId": "01734ca2-c2e9-457a-a75b-a11712324567"
      },
      "source": [
        "y_pred = regressor.predict(poly_reg.transform(X_test))\n",
        "np.set_printoptions(precision=2)\n",
        "print(np.concatenate((y_pred.reshape(len(y_pred),1), y_test.reshape(len(y_test),1)),1))"
      ],
      "execution_count": 5,
      "outputs": [
        {
          "output_type": "stream",
          "text": [
            "[[ 69.72  70.  ]\n",
            " [ 23.6   23.  ]\n",
            " [ 74.82  74.  ]\n",
            " [275.57 290.  ]\n",
            " [ 69.57  67.  ]\n",
            " [ 21.36  20.  ]\n",
            " [ 75.65  76.  ]\n",
            " [ 19.48  18.  ]\n",
            " [183.35 181.  ]\n",
            " [150.41 151.  ]\n",
            " [ 40.68  41.  ]\n",
            " [583.84 603.  ]\n",
            " [ 68.99  72.  ]\n",
            " [156.93 149.  ]\n",
            " [353.26 350.  ]\n",
            " [ 29.46  29.  ]\n",
            " [ 50.78  50.  ]\n",
            " [ 29.1   29.  ]\n",
            " [ 18.8   18.  ]\n",
            " [ 22.05  22.  ]\n",
            " [ 21.51  21.  ]\n",
            " [ 60.47  64.  ]\n",
            " [373.32 381.  ]\n",
            " [ 56.39  56.  ]\n",
            " [ 31.35  32.  ]\n",
            " [ 77.41  80.  ]\n",
            " [ 29.7   30.  ]\n",
            " [ 20.68  20.  ]\n",
            " [ 21.76  21.  ]\n",
            " [ 42.4   41.  ]\n",
            " [ 49.59  52.  ]\n",
            " [ 49.03  48.  ]\n",
            " [ 45.53  46.  ]\n",
            " [ 57.45  54.  ]\n",
            " [ 99.34  99.  ]\n",
            " [112.96 107.  ]\n",
            " [ 25.61  25.  ]\n",
            " [ 57.18  59.  ]\n",
            " [ 22.85  23.  ]\n",
            " [ 87.14  88.  ]\n",
            " [181.81 183.  ]\n",
            " [ 45.11  40.  ]]\n"
          ],
          "name": "stdout"
        }
      ]
    },
    {
      "cell_type": "markdown",
      "metadata": {
        "colab_type": "text",
        "id": "Fz1uTlWV919-"
      },
      "source": [
        "## Evaluating the Model Performance"
      ]
    },
    {
      "cell_type": "code",
      "metadata": {
        "colab_type": "code",
        "id": "xvZQ_4W893-e",
        "colab": {
          "base_uri": "https://localhost:8080/",
          "height": 35
        },
        "outputId": "9d1d1887-998a-4125-d97f-3e62317d8dc5"
      },
      "source": [
        "from sklearn.metrics import r2_score\n",
        "r2_score(y_test, y_pred)"
      ],
      "execution_count": 6,
      "outputs": [
        {
          "output_type": "execute_result",
          "data": {
            "text/plain": [
              "0.9984934749318881"
            ]
          },
          "metadata": {
            "tags": []
          },
          "execution_count": 6
        }
      ]
    }
  ]
}