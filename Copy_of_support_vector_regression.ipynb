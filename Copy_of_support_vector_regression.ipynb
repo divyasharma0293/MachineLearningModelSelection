{
  "nbformat": 4,
  "nbformat_minor": 0,
  "metadata": {
    "colab": {
      "name": "Copy of support_vector_regression.ipynb",
      "provenance": [],
      "collapsed_sections": [],
      "toc_visible": true
    },
    "kernelspec": {
      "display_name": "Python 3",
      "language": "python",
      "name": "python3"
    },
    "language_info": {
      "codemirror_mode": {
        "name": "ipython",
        "version": 3
      },
      "file_extension": ".py",
      "mimetype": "text/x-python",
      "name": "python",
      "nbconvert_exporter": "python",
      "pygments_lexer": "ipython3",
      "version": "3.7.4"
    }
  },
  "cells": [
    {
      "cell_type": "markdown",
      "metadata": {
        "colab_type": "text",
        "id": "m3PAEPRDRLA3"
      },
      "source": [
        "# Support Vector Regression (SVR)"
      ]
    },
    {
      "cell_type": "markdown",
      "metadata": {
        "colab_type": "text",
        "id": "0VCUAVIjRdzZ"
      },
      "source": [
        "## Importing the libraries"
      ]
    },
    {
      "cell_type": "code",
      "metadata": {
        "colab_type": "code",
        "id": "56oRF-QfSDzC",
        "colab": {}
      },
      "source": [
        "import numpy as np\n",
        "import matplotlib.pyplot as plt\n",
        "import pandas as pd"
      ],
      "execution_count": 1,
      "outputs": []
    },
    {
      "cell_type": "markdown",
      "metadata": {
        "colab_type": "text",
        "id": "fXVXoFWtSF4_"
      },
      "source": [
        "## Importing the dataset"
      ]
    },
    {
      "cell_type": "code",
      "metadata": {
        "colab_type": "code",
        "id": "xfoa8OSORfHQ",
        "colab": {}
      },
      "source": [
        "dataset = pd.read_csv('machine (2).csv')\n",
        "X = dataset.iloc[:, 2:-1].values\n",
        "y = dataset.iloc[:, -1].values"
      ],
      "execution_count": 2,
      "outputs": []
    },
    {
      "cell_type": "code",
      "metadata": {
        "colab_type": "code",
        "id": "_8Ny1GfPiV3m",
        "colab": {}
      },
      "source": [
        "y = y.reshape(len(y),1)"
      ],
      "execution_count": 3,
      "outputs": []
    },
    {
      "cell_type": "markdown",
      "metadata": {
        "colab_type": "text",
        "id": "6Vk3nNlrCVCN"
      },
      "source": [
        "## Splitting the dataset into the Training set and Test set"
      ]
    },
    {
      "cell_type": "code",
      "metadata": {
        "colab_type": "code",
        "id": "x_fXqrziCV3_",
        "colab": {}
      },
      "source": [
        "from sklearn.model_selection import train_test_split\n",
        "X_train, X_test, y_train, y_test = train_test_split(X, y, test_size = 0.2, random_state = 0)"
      ],
      "execution_count": 4,
      "outputs": []
    },
    {
      "cell_type": "markdown",
      "metadata": {
        "colab_type": "text",
        "id": "YS8FeLHYS-nI"
      },
      "source": [
        "## Feature Scaling"
      ]
    },
    {
      "cell_type": "code",
      "metadata": {
        "colab_type": "code",
        "id": "PGeAlD1HTDI1",
        "colab": {}
      },
      "source": [
        "from sklearn.preprocessing import StandardScaler\n",
        "sc_X = StandardScaler()\n",
        "sc_y = StandardScaler()\n",
        "X_train = sc_X.fit_transform(X_train)\n",
        "y_train = sc_y.fit_transform(y_train)"
      ],
      "execution_count": 5,
      "outputs": []
    },
    {
      "cell_type": "markdown",
      "metadata": {
        "colab_type": "text",
        "id": "eiU6D2QFRjxY"
      },
      "source": [
        "## Training the SVR model on the Training set"
      ]
    },
    {
      "cell_type": "code",
      "metadata": {
        "colab_type": "code",
        "id": "y6R4rt_GRz15",
        "colab": {
          "base_uri": "https://localhost:8080/",
          "height": 107
        },
        "outputId": "252682f7-16ac-4f61-ea2c-accd7d1e2cb6"
      },
      "source": [
        "from sklearn.svm import SVR\n",
        "regressor = SVR(kernel = 'rbf')\n",
        "regressor.fit(X_train, y_train)"
      ],
      "execution_count": 6,
      "outputs": [
        {
          "output_type": "stream",
          "text": [
            "/usr/local/lib/python3.6/dist-packages/sklearn/utils/validation.py:760: DataConversionWarning: A column-vector y was passed when a 1d array was expected. Please change the shape of y to (n_samples, ), for example using ravel().\n",
            "  y = column_or_1d(y, warn=True)\n"
          ],
          "name": "stderr"
        },
        {
          "output_type": "execute_result",
          "data": {
            "text/plain": [
              "SVR(C=1.0, cache_size=200, coef0=0.0, degree=3, epsilon=0.1, gamma='scale',\n",
              "    kernel='rbf', max_iter=-1, shrinking=True, tol=0.001, verbose=False)"
            ]
          },
          "metadata": {
            "tags": []
          },
          "execution_count": 6
        }
      ]
    },
    {
      "cell_type": "markdown",
      "metadata": {
        "colab_type": "text",
        "id": "aPYA5W1pDBOE"
      },
      "source": [
        "## Predicting the Test set results"
      ]
    },
    {
      "cell_type": "code",
      "metadata": {
        "colab_type": "code",
        "id": "vSqFVDYrDROW",
        "colab": {
          "base_uri": "https://localhost:8080/",
          "height": 745
        },
        "outputId": "5a75cf91-a523-4bfe-bf15-69b4bba0fc9d"
      },
      "source": [
        "y_pred = sc_y.inverse_transform(regressor.predict(sc_X.transform(X_test)))\n",
        "np.set_printoptions(precision=2)\n",
        "print(np.concatenate((y_pred.reshape(len(y_pred),1), y_test.reshape(len(y_test),1)),1))"
      ],
      "execution_count": 7,
      "outputs": [
        {
          "output_type": "stream",
          "text": [
            "[[ 85.14  70.  ]\n",
            " [ 23.99  23.  ]\n",
            " [ 74.33  74.  ]\n",
            " [279.93 290.  ]\n",
            " [ 65.6   67.  ]\n",
            " [ 26.04  20.  ]\n",
            " [ 76.78  76.  ]\n",
            " [ 52.88  18.  ]\n",
            " [192.35 181.  ]\n",
            " [158.7  151.  ]\n",
            " [ 35.78  41.  ]\n",
            " [292.89 603.  ]\n",
            " [ 88.18  72.  ]\n",
            " [171.21 149.  ]\n",
            " [350.84 350.  ]\n",
            " [ 27.5   29.  ]\n",
            " [ 49.48  50.  ]\n",
            " [ 41.05  29.  ]\n",
            " [ 33.15  18.  ]\n",
            " [ 24.49  22.  ]\n",
            " [ 29.08  21.  ]\n",
            " [ 72.15  64.  ]\n",
            " [382.28 381.  ]\n",
            " [ 63.3   56.  ]\n",
            " [ 27.77  32.  ]\n",
            " [ 80.08  80.  ]\n",
            " [ 38.19  30.  ]\n",
            " [ 35.41  20.  ]\n",
            " [ 36.34  21.  ]\n",
            " [ 32.18  41.  ]\n",
            " [ 47.99  52.  ]\n",
            " [ 46.07  48.  ]\n",
            " [ 44.92  46.  ]\n",
            " [ 51.42  54.  ]\n",
            " [ 95.75  99.  ]\n",
            " [114.18 107.  ]\n",
            " [ 32.19  25.  ]\n",
            " [ 68.84  59.  ]\n",
            " [ 22.56  23.  ]\n",
            " [ 83.76  88.  ]\n",
            " [184.37 183.  ]\n",
            " [ 46.35  40.  ]]\n"
          ],
          "name": "stdout"
        }
      ]
    },
    {
      "cell_type": "markdown",
      "metadata": {
        "colab_type": "text",
        "id": "CMsYlps2DX1d"
      },
      "source": [
        "## Evaluating the Model Performance"
      ]
    },
    {
      "cell_type": "code",
      "metadata": {
        "colab_type": "code",
        "id": "HxsRWlURDr6S",
        "colab": {
          "base_uri": "https://localhost:8080/",
          "height": 35
        },
        "outputId": "5d563b87-532d-4cb0-86c6-05c898b91e79"
      },
      "source": [
        "from sklearn.metrics import r2_score\n",
        "r2_score(y_test, y_pred)"
      ],
      "execution_count": 8,
      "outputs": [
        {
          "output_type": "execute_result",
          "data": {
            "text/plain": [
              "0.8214857466740612"
            ]
          },
          "metadata": {
            "tags": []
          },
          "execution_count": 8
        }
      ]
    }
  ]
}